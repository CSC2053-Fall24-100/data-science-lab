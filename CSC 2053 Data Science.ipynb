{
 "cells": [
  {
   "cell_type": "markdown",
   "id": "1c8d7a4b",
   "metadata": {},
   "source": [
    "# Lab 12 - Python Data Science\n",
    "\n",
    "Goals\n",
    "\n",
    "- Loading in a dataset with Python, in this case, every FM radio station licensed in the state of Pennsylvania\n",
    "- Using Pandas to run data analysis on the set\n",
    "- Using Matplotlib to run bar chart and pie chart graphics\n",
    "- Using NumPy to apply the Haversine formula to calculate distance between two points"
   ]
  },
  {
   "cell_type": "markdown",
   "id": "5767b804",
   "metadata": {},
   "source": [
    "#### Step 1 - Import Libraries"
   ]
  },
  {
   "cell_type": "code",
   "execution_count": null,
   "id": "3aae8faf",
   "metadata": {},
   "outputs": [],
   "source": [
    "#Cell 1: Import Libraries\n",
    "\n",
    "import pandas as pd\n",
    "import matplotlib.pyplot as plt"
   ]
  },
  {
   "cell_type": "markdown",
   "id": "ca624b11",
   "metadata": {},
   "source": [
    "#### Step 2 - Load and Preview the Dataset\n",
    "\n",
    "Here, load the Pennsylvania FM dataset and take a look at the first few rows."
   ]
  },
  {
   "cell_type": "code",
   "execution_count": null,
   "id": "738caca2",
   "metadata": {},
   "outputs": [],
   "source": [
    "# Load the dataset\n",
    "df = pd.read_csv('fcc_db_pa_selected.csv')\n",
    "\n",
    "# Display the first few rows of the dataset\n"
   ]
  },
  {
   "cell_type": "markdown",
   "id": "5c21f722",
   "metadata": {},
   "source": [
    "#### Step 3: Example Analysis with PA FM Dataset"
   ]
  },
  {
   "cell_type": "code",
   "execution_count": null,
   "id": "0ebbaa45",
   "metadata": {},
   "outputs": [],
   "source": [
    "# Check the shape of the dataset (rows, columns)\n",
    "\n",
    "# Display column names\n",
    "\n",
    "#Checking Data Types\n",
    "\n",
    "# Summary statistics for numerical columns"
   ]
  },
  {
   "cell_type": "markdown",
   "id": "d615d688",
   "metadata": {},
   "source": [
    "Suppose we want to focus on certain columns, like frequency and city. This example shows how to select those columns."
   ]
  },
  {
   "cell_type": "code",
   "execution_count": null,
   "id": "a8bac087",
   "metadata": {},
   "outputs": [],
   "source": [
    "df_selected = df[['frequency', 'city']]\n",
    "df_selected.head()\n",
    "\n",
    "# Select rows by position\n",
    "row_5 = df.iloc[5]\n",
    "\n",
    "# Select rows by label\n",
    "specific_row = df.loc[df['frequency'] == 88.5]"
   ]
  },
  {
   "cell_type": "markdown",
   "id": "c90b0add",
   "metadata": {},
   "source": [
    "Filtering data can be useful to focus on specific frequency ranges. Let’s filter for frequencies above 107.7 MHz."
   ]
  },
  {
   "cell_type": "code",
   "execution_count": null,
   "id": "1aa34e5d",
   "metadata": {},
   "outputs": [],
   "source": [
    "# Filter stations with frequencies above 107.7 MHz\n"
   ]
  },
  {
   "cell_type": "markdown",
   "id": "0868ba70",
   "metadata": {},
   "source": [
    "In this cell, we’ll group the data by the format column to find out how many stations are in each format category. This type of analysis can give insights into the prevalence of different programming formats."
   ]
  },
  {
   "cell_type": "code",
   "execution_count": null,
   "id": "2b9b10a9",
   "metadata": {},
   "outputs": [],
   "source": [
    "# Group by 'format' and count the number of stations for each format"
   ]
  },
  {
   "cell_type": "markdown",
   "id": "8df1c87f",
   "metadata": {},
   "source": [
    "Next, let’s calculate the average frequency for each format type, which might reveal trends, such as certain formats preferring higher or lower frequencies."
   ]
  },
  {
   "cell_type": "code",
   "execution_count": null,
   "id": "1db498fb",
   "metadata": {},
   "outputs": [],
   "source": [
    "# Group by 'format' and calculate the average frequency for each"
   ]
  },
  {
   "cell_type": "markdown",
   "id": "06b81960",
   "metadata": {},
   "source": [
    "For a comprehensive summary, we can create a DataFrame that combines both the count of stations and the average frequency by format."
   ]
  },
  {
   "cell_type": "code",
   "execution_count": null,
   "id": "12f12f23",
   "metadata": {},
   "outputs": [],
   "source": [
    "# Combine count and average frequency by format into a single DataFrame\n",
    "format_summary = pd.DataFrame({\n",
    "    'Station Count': format_counts,\n",
    "    'Average Frequency (MHz)': avg_frequency_by_format\n",
    "})\n",
    "format_summary\n"
   ]
  },
  {
   "cell_type": "markdown",
   "id": "b65ac930",
   "metadata": {},
   "source": [
    "This example uses Matplotlib to plot a simple bar chart."
   ]
  },
  {
   "cell_type": "code",
   "execution_count": null,
   "id": "399d7abc",
   "metadata": {},
   "outputs": [],
   "source": [
    "# Plotting the distribution of station formats\n",
    "format_counts.plot(kind='bar', figsize=(10, 6))\n",
    "plt.title(\"Distribution of Station Formats\")\n",
    "plt.xlabel(\"Format\")\n",
    "plt.ylabel(\"Number of Stations\")\n",
    "plt.show()"
   ]
  },
  {
   "cell_type": "markdown",
   "id": "044dc26f",
   "metadata": {},
   "source": [
    "Counting Stations by Market"
   ]
  },
  {
   "cell_type": "code",
   "execution_count": null,
   "id": "2ea57394",
   "metadata": {},
   "outputs": [],
   "source": [
    "# Count the number of stations for each market\n",
    "market_counts = df['market'].value_counts()\n",
    "market_counts"
   ]
  },
  {
   "cell_type": "markdown",
   "id": "144638a9",
   "metadata": {},
   "source": [
    "###### Plotting Station Count by Market\n",
    "\n",
    "To make the data more digestible, let’s plot the station count per market as a bar chart."
   ]
  },
  {
   "cell_type": "code",
   "execution_count": null,
   "id": "fdf0fb90",
   "metadata": {},
   "outputs": [],
   "source": [
    "# Plotting the distribution of station counts by market\n",
    "market_counts.plot(kind='bar', figsize=(12, 8))\n",
    "plt.title(\"Station Count by Market\")\n",
    "plt.xlabel(\"Market\")\n",
    "plt.ylabel(\"Number of Stations\")\n",
    "plt.show()"
   ]
  },
  {
   "cell_type": "code",
   "execution_count": null,
   "id": "2bb6bca8",
   "metadata": {},
   "outputs": [],
   "source": [
    "# Check for missing values\n",
    "print(\"Missing Values:\\n\", df.isnull().sum())\n",
    "\n",
    "# Example: Fill missing slogan values with Unknown\n",
    "df['slogan'].fillna(\"Unknown\", inplace=True)"
   ]
  },
  {
   "cell_type": "code",
   "execution_count": null,
   "id": "5c361220",
   "metadata": {},
   "outputs": [],
   "source": [
    "# Add a new column 'signal_range' based on a calculation with frequency\n",
    "df['signal_range'] = df['frequency'] * 2  # Just a hypothetical calculation\n",
    "df.head()"
   ]
  },
  {
   "cell_type": "markdown",
   "id": "6b298de4",
   "metadata": {},
   "source": [
    "# Comparing Station Count Across Market Tiers\n",
    "\n",
    "For additional analysis, we can categorize markets into tiers based on station count, such as high, medium, and low station counts. This can be done using conditional logic."
   ]
  },
  {
   "cell_type": "code",
   "execution_count": null,
   "id": "1784b111",
   "metadata": {},
   "outputs": [],
   "source": [
    "# Define thresholds for market tiers\n",
    "high_threshold = 20  # markets with 20+ stations\n",
    "medium_threshold = 10  # markets with 10-19 stations\n",
    "\n",
    "# Categorize markets by station count, handling NaN values\n",
    "df['market_tier'] = df['market'].map(\n",
    "    lambda x: 'Unknown' if pd.isna(x) \n",
    "    else ('High' if market_counts[x] >= high_threshold \n",
    "          else ('Medium' if market_counts[x] >= medium_threshold else 'Low'))\n",
    ")\n",
    "\n",
    "# Verify the result\n",
    "df[['market', 'market_tier']].head()\n",
    "\n",
    "# Display the count of each market tier\n",
    "market_tier_counts = df['market_tier'].value_counts()\n",
    "market_tier_counts"
   ]
  },
  {
   "cell_type": "markdown",
   "id": "919a5e03",
   "metadata": {},
   "source": [
    "Finally, visualize the distribution of market tiers to give us a more aggregated view of the data."
   ]
  },
  {
   "cell_type": "code",
   "execution_count": null,
   "id": "e033e27b",
   "metadata": {},
   "outputs": [],
   "source": [
    "# Plotting the market tier distribution\n",
    "market_tier_counts.plot(kind='pie', autopct='%1.1f%%', startangle=140, figsize=(8, 8))\n",
    "plt.title(\"Distribution of Markets by Station Tier\")\n",
    "plt.ylabel(\"\")  # Hide the y-label for a cleaner pie chart\n",
    "plt.show()\n"
   ]
  },
  {
   "cell_type": "markdown",
   "id": "78ac17f8",
   "metadata": {},
   "source": [
    "#### Step-by-Step Guide for Calculating Distance Using the Haversine Formula"
   ]
  },
  {
   "cell_type": "markdown",
   "id": "0542eef3",
   "metadata": {},
   "source": [
    "First, add a function to calculate the distance between two sets of latitude and longitude coordinates using the Haversine formula."
   ]
  },
  {
   "cell_type": "code",
   "execution_count": null,
   "id": "45104a30",
   "metadata": {},
   "outputs": [],
   "source": [
    "import numpy as np\n",
    "\n",
    "# Define the Haversine formula function\n",
    "def haversine(lat1, lon1, lat2, lon2):\n",
    "    # Convert latitude and longitude from degrees to radians\n",
    "    lat1, lon1, lat2, lon2 = map(np.radians, [lat1, lon1, lat2, lon2])\n",
    "    \n",
    "    # Haversine formula\n",
    "    dlat = lat2 - lat1\n",
    "    dlon = lon2 - lon1\n",
    "    a = np.sin(dlat / 2.0)**2 + np.cos(lat1) * np.cos(lat2) * np.sin(dlon / 2.0)**2\n",
    "    c = 2 * np.arcsin(np.sqrt(a))\n",
    "    r = 6371  # Radius of Earth in kilometers\n",
    "    return c * r"
   ]
  },
  {
   "cell_type": "markdown",
   "id": "6b582654",
   "metadata": {},
   "source": [
    "Next, apply this function to each row in the DataFrame to calculate the distance from Villanova University."
   ]
  },
  {
   "cell_type": "code",
   "execution_count": null,
   "id": "a0b7efef",
   "metadata": {},
   "outputs": [],
   "source": [
    "# Villanova University coordinates\n",
    "villanova_lat = 40.0379\n",
    "villanova_lon = -75.3412\n",
    "\n",
    "# Calculate the distance from each station to Villanova University\n",
    "df['distance_to_villanova_km'] = df.apply(\n",
    "    lambda row: haversine(villanova_lat, villanova_lon, row['lat'], row['lon']),\n",
    "    axis=1\n",
    ")\n",
    "\n",
    "# Display the first few rows to verify\n",
    "df[['lat', 'lon', 'distance_to_villanova_km']].head()"
   ]
  },
  {
   "cell_type": "markdown",
   "id": "a4bd9235",
   "metadata": {},
   "source": [
    "# Lab Exercises"
   ]
  },
  {
   "cell_type": "markdown",
   "id": "386eda48",
   "metadata": {},
   "source": [
    "1. In our Pennsylvania dataset, the longitude for each radio station is positive.  We need to change this to a negative value.  Overwrite the existing column, df['lon'] by changing each value to negative."
   ]
  },
  {
   "cell_type": "code",
   "execution_count": null,
   "id": "60de0d03",
   "metadata": {},
   "outputs": [],
   "source": []
  },
  {
   "cell_type": "markdown",
   "id": "97af4710",
   "metadata": {},
   "source": [
    "2. Reapply the haversine function to the df['distance_to_villanova_km'] column."
   ]
  },
  {
   "cell_type": "code",
   "execution_count": null,
   "id": "7e104285",
   "metadata": {},
   "outputs": [],
   "source": []
  },
  {
   "cell_type": "markdown",
   "id": "72f1cebe",
   "metadata": {},
   "source": [
    "3. Create a new column that converts distance_to_villanova_km to miles.  A simple conversion formula involves taking the kilometers value and multiplying it by 0.621371 to convert it to miles."
   ]
  },
  {
   "cell_type": "code",
   "execution_count": null,
   "id": "217e0ca6",
   "metadata": {},
   "outputs": [],
   "source": []
  },
  {
   "cell_type": "markdown",
   "id": "2f5f93b6",
   "metadata": {},
   "source": [
    "4. Print the 10 Closest Radio Stations to Villanova.  Call the dataframe closest_10_stations"
   ]
  },
  {
   "cell_type": "code",
   "execution_count": null,
   "id": "7ff96ab1",
   "metadata": {},
   "outputs": [],
   "source": []
  },
  {
   "cell_type": "markdown",
   "id": "428a0ad9",
   "metadata": {},
   "source": [
    "5. Use Matplotlib to plot the 10 Closest Stations to Villanova"
   ]
  },
  {
   "cell_type": "code",
   "execution_count": null,
   "id": "6b10353e",
   "metadata": {},
   "outputs": [],
   "source": [
    "# Plotting the 10 closest stations by distance\n",
    "plt.figure(figsize=(10, 6))\n",
    "plt.barh(closest_10_stations['station_name'], closest_10_stations['distance_to_villanova_miles'])\n",
    "plt.xlabel(\"Distance to Villanova (miles)\")\n",
    "plt.ylabel(\"Station Name\")\n",
    "plt.title(\"10 Closest Radio Stations to Villanova University\")\n",
    "plt.gca().invert_yaxis()  # Invert y-axis for closest stations at the top\n",
    "plt.show()"
   ]
  },
  {
   "cell_type": "markdown",
   "id": "1443d429",
   "metadata": {},
   "source": [
    "6. The 50 Closest Stations to Villanova, Sorted by Format"
   ]
  },
  {
   "cell_type": "code",
   "execution_count": null,
   "id": "d3fa7525",
   "metadata": {},
   "outputs": [],
   "source": [
    "# Get the 50 closest stations and sort them by 'format'\n",
    "closest_50_stations = df.sort_values(by='distance_to_villanova_miles').head(50).sort_values(by='format')\n",
    "closest_50_stations[['station_name', 'distance_to_villanova_miles', 'format']]"
   ]
  },
  {
   "cell_type": "markdown",
   "id": "672394e7",
   "metadata": {},
   "source": [
    "7. Plot the Formats of the 50 Closest Stations in a Pie Chart"
   ]
  },
  {
   "cell_type": "code",
   "execution_count": null,
   "id": "7f0057b9",
   "metadata": {},
   "outputs": [],
   "source": [
    "# Count the number of stations per format among the 50 closest\n",
    "format_counts = closest_50_stations['format'].value_counts()\n",
    "\n",
    "# Plotting the formats in a pie chart\n",
    "plt.figure(figsize=(8, 8))\n",
    "plt.pie(format_counts, labels=format_counts.index, autopct='%1.1f%%', startangle=140)\n",
    "plt.title(\"Distribution of Formats Among the 50 Closest Stations\")\n",
    "plt.show()"
   ]
  }
 ],
 "metadata": {
  "kernelspec": {
   "display_name": "Python 3 (ipykernel)",
   "language": "python",
   "name": "python3"
  },
  "language_info": {
   "codemirror_mode": {
    "name": "ipython",
    "version": 3
   },
   "file_extension": ".py",
   "mimetype": "text/x-python",
   "name": "python",
   "nbconvert_exporter": "python",
   "pygments_lexer": "ipython3",
   "version": "3.9.7"
  }
 },
 "nbformat": 4,
 "nbformat_minor": 5
}
